{
  "nbformat": 4,
  "nbformat_minor": 0,
  "metadata": {
    "colab": {
      "name": "S3FD_test.ipynb",
      "provenance": [],
      "collapsed_sections": []
    },
    "kernelspec": {
      "name": "python3",
      "display_name": "Python 3"
    },
    "accelerator": "GPU"
  },
  "cells": [
    {
      "cell_type": "code",
      "metadata": {
        "id": "PTJAdDZ67DwZ"
      },
      "source": [
        "# Don't forget to assign GPU in the colab session !\n",
        "\n",
        "!pip install litenn-apps\n",
        "\n",
        "import litenn_apps as lna\n",
        "\n",
        "lna.recognition.face.S3FD_show_test()"
      ],
      "execution_count": null,
      "outputs": []
    }
  ]
}