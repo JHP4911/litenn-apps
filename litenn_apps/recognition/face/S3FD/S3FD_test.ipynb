{
  "nbformat": 4,
  "nbformat_minor": 0,
  "metadata": {
    "colab": {
      "name": "S3FD_test.ipynb",
      "provenance": [],
      "collapsed_sections": []
    },
    "kernelspec": {
      "name": "python3",
      "display_name": "Python 3"
    },
    "accelerator": "GPU"
  },
  "cells": [
    {
      "cell_type": "code",
      "metadata": {
        "id": "PTJAdDZ67DwZ",
        "outputId": "f30d4380-2881-486a-8745-50789efd0e7e",
        "colab": {
          "base_uri": "https://localhost:8080/"
        }
      },
      "source": [
        "!pip install litenn-apps\n",
        "\n",
        "import litenn_apps as lna\n",
        "\n",
        "lna.recognition.face.S3FD_show_test()\n"
      ],
      "execution_count": null,
      ]
    }
  ]
}